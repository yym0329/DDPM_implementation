{
  "cells": [
    {
      "cell_type": "code",
      "execution_count": null,
      "metadata": {
        "colab": {
          "base_uri": "https://localhost:8080/"
        },
        "id": "m92idTwOLkKw",
        "outputId": "22d06e37-6ee2-4dc5-b860-d7feab3936e8"
      },
      "outputs": [],
      "source": [
        "!pip install torchmetrics\n",
        "!pip install scipy\n",
        "!pip install torch-fidelity"
      ]
    },
    {
      "cell_type": "code",
      "execution_count": null,
      "metadata": {
        "colab": {
          "base_uri": "https://localhost:8080/"
        },
        "id": "o0VJ22Z5ubF8",
        "outputId": "63c79fcd-46cd-4aad-836e-a71550c68aaa"
      },
      "outputs": [],
      "source": [
        "from google.colab import drive\n",
        "drive.mount('/gdrive')\n",
        "# root = r'/gdrive/My Drive/'"
      ]
    },
    {
      "attachments": {},
      "cell_type": "markdown",
      "metadata": {},
      "source": [
        "## set result_dir and gen_image_dir properly"
      ]
    },
    {
      "cell_type": "code",
      "execution_count": null,
      "metadata": {
        "colab": {
          "base_uri": "https://localhost:8080/"
        },
        "id": "6FQwiMYIMDSe",
        "outputId": "89dc0d62-9e12-4390-b346-ce5ba5a810cf"
      },
      "outputs": [],
      "source": [
        "from torchmetrics.image.fid import FrechetInceptionDistance\n",
        "from torchmetrics.image.inception import InceptionScore\n",
        "from torchvision.io import read_image\n",
        "import os, torch\n",
        "#result_dir = r'/gdrive/MyDrive'\n",
        "gen_image_dir = r'adaptive_sigmoid_20_200/sample_imgs'\n",
        "gen_image_path = os.path.join(result_dir, gen_image_dir)\n",
        "device = 'cuda:0' if torch.cuda.is_available() else 'cpu'\n",
        "print(\"genated image path: \", gen_image_path)\n",
        "print(\"use device: \", device)"
      ]
    },
    {
      "cell_type": "markdown",
      "metadata": {
        "id": "ZAyczdunlSl5"
      },
      "source": [
        "Load generated images"
      ]
    },
    {
      "cell_type": "code",
      "execution_count": null,
      "metadata": {
        "id": "OCsYXfOXRdk2"
      },
      "outputs": [],
      "source": [
        "image_names = os.listdir(gen_image_path)\n",
        "image_list = []\n",
        "\n",
        "for f in image_names:\n",
        "    image_list.append(read_image(os.path.join(gen_image_path, f)).cuda())\n",
        "gen_images = torch.stack(image_list)"
      ]
    },
    {
      "cell_type": "markdown",
      "metadata": {
        "id": "7oVIiX8klZB_"
      },
      "source": [
        "Load real images"
      ]
    },
    {
      "cell_type": "code",
      "execution_count": null,
      "metadata": {
        "colab": {
          "base_uri": "https://localhost:8080/"
        },
        "id": "2-dKkpzDRPo6",
        "outputId": "1d7b32aa-b7c8-43da-8a5c-887aa28f0a22"
      },
      "outputs": [],
      "source": [
        "from torchvision.datasets import CIFAR10\n",
        "from torchvision.transforms import  Compose, ToTensor, Lambda\n",
        "\n",
        "\n",
        "transform = Compose(\n",
        "    [\n",
        "        ToTensor(),\n",
        "        Lambda(lambda x: x.to(device)),\n",
        "    ]\n",
        ")\n",
        "\n",
        "cifar10_test = CIFAR10(root, train=False, transform = transform,download=True)\n",
        "\n",
        "real_imgs = torch.from_numpy(cifar10_test.data).cuda()\n",
        "real_imgs = real_imgs.permute(0,3,1,2)"
      ]
    },
    {
      "cell_type": "markdown",
      "metadata": {
        "id": "lA87UoK5lhD3"
      },
      "source": [
        "Load FID evaluator"
      ]
    },
    {
      "cell_type": "code",
      "execution_count": null,
      "metadata": {
        "colab": {
          "base_uri": "https://localhost:8080/",
          "height": 158,
          "referenced_widgets": [
            "5b3598a1ad714bdc9b4702d505418a3f",
            "973804883f354e3784298eb3411a4ca2",
            "9f07876886224075b013da2dad8c3f5d",
            "e83224863ffd43039e4c7f343dbfb4b6",
            "ce55ee6b35b947f6a0baea57b848ce05",
            "378562a8f9194e3785e1bb634d9fb097",
            "32efe498df2c4c8c94b69a38a4b6bf24",
            "f9f9664d3fac477d8c412c5ffcc16777",
            "6080924249f5406b85862957492d5ce4",
            "ca1ba49983d14b97b613cd1ff5ed1579",
            "c889a5de1e6c4debb18ae2aaaf72a809"
          ]
        },
        "id": "_jA1N0bNO4y5",
        "outputId": "e64500af-97cb-4ccc-f9e0-1686e25bcede"
      },
      "outputs": [],
      "source": [
        "fid = FrechetInceptionDistance(feature=2048).to(device)\n",
        "inception_score = InceptionScore().to(device)\n",
        "print(\"FID device: \", fid.device)\n",
        "print(\"IS device: \", inception_score.device)"
      ]
    },
    {
      "cell_type": "markdown",
      "metadata": {
        "id": "HtLG9JMpltGQ"
      },
      "source": [
        "Update FID evaluator with data"
      ]
    },
    {
      "cell_type": "code",
      "execution_count": null,
      "metadata": {
        "id": "YjXS4RHYOQTu"
      },
      "outputs": [],
      "source": [
        "batch_size = 128\n",
        "num_batches = (gen_images.shape)[0] // batch_size \n",
        "gen_images[:128].shape\n",
        "\n",
        "for i in range(num_batches):\n",
        "    fid.update(gen_images[batch_size*i:batch_size*(i+1)], real=False)\n",
        "    inception_score.update(gen_images[batch_size*i:batch_size*(i+1)])\n",
        "\n",
        "if gen_images.shape[0] % 128 != 0:\n",
        "    fid.update(gen_images[batch_size*num_batches:], real=False)    \n",
        "    inception_score.update(gen_images[batch_size*num_batches:])\n",
        "\n",
        "num_batches = real_imgs.shape[0] // batch_size\n",
        "for i in range(num_batches):\n",
        "    fid.update(real_imgs[batch_size*i:batch_size*(i+1)], real=True)\n",
        "fid.update(real_imgs[batch_size*num_batches:], real=True)"
      ]
    },
    {
      "cell_type": "markdown",
      "metadata": {
        "id": "TpXD3O3OmBc2"
      },
      "source": [
        "Compute FID score, IS\n",
        "\n",
        "\n"
      ]
    },
    {
      "cell_type": "code",
      "execution_count": null,
      "metadata": {
        "colab": {
          "base_uri": "https://localhost:8080/"
        },
        "id": "z6EqclNhae8e",
        "outputId": "e9bc259c-cb41-43e4-d45f-6565bd2ec5fc"
      },
      "outputs": [],
      "source": [
        "fid_res = fid.compute()\n",
        "is_res = inception_score.compute()\n",
        "print(f\"FID score: {fid_res.item()}\")\n",
        "print(f\"Inception score: {is_res[0].item()}\")\n",
        "\n"
      ]
    },
    {
      "cell_type": "code",
      "execution_count": null,
      "metadata": {
        "id": "e487BmPhgmeN"
      },
      "outputs": [],
      "source": [
        "from google.colab import runtime\n",
        "runtime.unassign()"
      ]
    }
  ],
  "metadata": {
    "accelerator": "GPU",
    "colab": {
      "provenance": []
    },
    "gpuClass": "standard",
    "kernelspec": {
      "display_name": "Python 3.9.6 64-bit",
      "language": "python",
      "name": "python3"
    },
    "language_info": {
      "name": "python",
      "version": "3.9.6 (default, Sep 26 2022, 11:37:49) \n[Clang 14.0.0 (clang-1400.0.29.202)]"
    },
    "vscode": {
      "interpreter": {
        "hash": "31f2aee4e71d21fbe5cf8b01ff0e069b9275f58929596ceb00d14d90e3e16cd6"
      }
    },
    "widgets": {
      "application/vnd.jupyter.widget-state+json": {
        "32efe498df2c4c8c94b69a38a4b6bf24": {
          "model_module": "@jupyter-widgets/controls",
          "model_module_version": "1.5.0",
          "model_name": "DescriptionStyleModel",
          "state": {
            "_model_module": "@jupyter-widgets/controls",
            "_model_module_version": "1.5.0",
            "_model_name": "DescriptionStyleModel",
            "_view_count": null,
            "_view_module": "@jupyter-widgets/base",
            "_view_module_version": "1.2.0",
            "_view_name": "StyleView",
            "description_width": ""
          }
        },
        "378562a8f9194e3785e1bb634d9fb097": {
          "model_module": "@jupyter-widgets/base",
          "model_module_version": "1.2.0",
          "model_name": "LayoutModel",
          "state": {
            "_model_module": "@jupyter-widgets/base",
            "_model_module_version": "1.2.0",
            "_model_name": "LayoutModel",
            "_view_count": null,
            "_view_module": "@jupyter-widgets/base",
            "_view_module_version": "1.2.0",
            "_view_name": "LayoutView",
            "align_content": null,
            "align_items": null,
            "align_self": null,
            "border": null,
            "bottom": null,
            "display": null,
            "flex": null,
            "flex_flow": null,
            "grid_area": null,
            "grid_auto_columns": null,
            "grid_auto_flow": null,
            "grid_auto_rows": null,
            "grid_column": null,
            "grid_gap": null,
            "grid_row": null,
            "grid_template_areas": null,
            "grid_template_columns": null,
            "grid_template_rows": null,
            "height": null,
            "justify_content": null,
            "justify_items": null,
            "left": null,
            "margin": null,
            "max_height": null,
            "max_width": null,
            "min_height": null,
            "min_width": null,
            "object_fit": null,
            "object_position": null,
            "order": null,
            "overflow": null,
            "overflow_x": null,
            "overflow_y": null,
            "padding": null,
            "right": null,
            "top": null,
            "visibility": null,
            "width": null
          }
        },
        "5b3598a1ad714bdc9b4702d505418a3f": {
          "model_module": "@jupyter-widgets/controls",
          "model_module_version": "1.5.0",
          "model_name": "HBoxModel",
          "state": {
            "_dom_classes": [],
            "_model_module": "@jupyter-widgets/controls",
            "_model_module_version": "1.5.0",
            "_model_name": "HBoxModel",
            "_view_count": null,
            "_view_module": "@jupyter-widgets/controls",
            "_view_module_version": "1.5.0",
            "_view_name": "HBoxView",
            "box_style": "",
            "children": [
              "IPY_MODEL_973804883f354e3784298eb3411a4ca2",
              "IPY_MODEL_9f07876886224075b013da2dad8c3f5d",
              "IPY_MODEL_e83224863ffd43039e4c7f343dbfb4b6"
            ],
            "layout": "IPY_MODEL_ce55ee6b35b947f6a0baea57b848ce05"
          }
        },
        "6080924249f5406b85862957492d5ce4": {
          "model_module": "@jupyter-widgets/controls",
          "model_module_version": "1.5.0",
          "model_name": "ProgressStyleModel",
          "state": {
            "_model_module": "@jupyter-widgets/controls",
            "_model_module_version": "1.5.0",
            "_model_name": "ProgressStyleModel",
            "_view_count": null,
            "_view_module": "@jupyter-widgets/base",
            "_view_module_version": "1.2.0",
            "_view_name": "StyleView",
            "bar_color": null,
            "description_width": ""
          }
        },
        "973804883f354e3784298eb3411a4ca2": {
          "model_module": "@jupyter-widgets/controls",
          "model_module_version": "1.5.0",
          "model_name": "HTMLModel",
          "state": {
            "_dom_classes": [],
            "_model_module": "@jupyter-widgets/controls",
            "_model_module_version": "1.5.0",
            "_model_name": "HTMLModel",
            "_view_count": null,
            "_view_module": "@jupyter-widgets/controls",
            "_view_module_version": "1.5.0",
            "_view_name": "HTMLView",
            "description": "",
            "description_tooltip": null,
            "layout": "IPY_MODEL_378562a8f9194e3785e1bb634d9fb097",
            "placeholder": "​",
            "style": "IPY_MODEL_32efe498df2c4c8c94b69a38a4b6bf24",
            "value": "100%"
          }
        },
        "9f07876886224075b013da2dad8c3f5d": {
          "model_module": "@jupyter-widgets/controls",
          "model_module_version": "1.5.0",
          "model_name": "FloatProgressModel",
          "state": {
            "_dom_classes": [],
            "_model_module": "@jupyter-widgets/controls",
            "_model_module_version": "1.5.0",
            "_model_name": "FloatProgressModel",
            "_view_count": null,
            "_view_module": "@jupyter-widgets/controls",
            "_view_module_version": "1.5.0",
            "_view_name": "ProgressView",
            "bar_style": "success",
            "description": "",
            "description_tooltip": null,
            "layout": "IPY_MODEL_f9f9664d3fac477d8c412c5ffcc16777",
            "max": 95628359,
            "min": 0,
            "orientation": "horizontal",
            "style": "IPY_MODEL_6080924249f5406b85862957492d5ce4",
            "value": 95628359
          }
        },
        "c889a5de1e6c4debb18ae2aaaf72a809": {
          "model_module": "@jupyter-widgets/controls",
          "model_module_version": "1.5.0",
          "model_name": "DescriptionStyleModel",
          "state": {
            "_model_module": "@jupyter-widgets/controls",
            "_model_module_version": "1.5.0",
            "_model_name": "DescriptionStyleModel",
            "_view_count": null,
            "_view_module": "@jupyter-widgets/base",
            "_view_module_version": "1.2.0",
            "_view_name": "StyleView",
            "description_width": ""
          }
        },
        "ca1ba49983d14b97b613cd1ff5ed1579": {
          "model_module": "@jupyter-widgets/base",
          "model_module_version": "1.2.0",
          "model_name": "LayoutModel",
          "state": {
            "_model_module": "@jupyter-widgets/base",
            "_model_module_version": "1.2.0",
            "_model_name": "LayoutModel",
            "_view_count": null,
            "_view_module": "@jupyter-widgets/base",
            "_view_module_version": "1.2.0",
            "_view_name": "LayoutView",
            "align_content": null,
            "align_items": null,
            "align_self": null,
            "border": null,
            "bottom": null,
            "display": null,
            "flex": null,
            "flex_flow": null,
            "grid_area": null,
            "grid_auto_columns": null,
            "grid_auto_flow": null,
            "grid_auto_rows": null,
            "grid_column": null,
            "grid_gap": null,
            "grid_row": null,
            "grid_template_areas": null,
            "grid_template_columns": null,
            "grid_template_rows": null,
            "height": null,
            "justify_content": null,
            "justify_items": null,
            "left": null,
            "margin": null,
            "max_height": null,
            "max_width": null,
            "min_height": null,
            "min_width": null,
            "object_fit": null,
            "object_position": null,
            "order": null,
            "overflow": null,
            "overflow_x": null,
            "overflow_y": null,
            "padding": null,
            "right": null,
            "top": null,
            "visibility": null,
            "width": null
          }
        },
        "ce55ee6b35b947f6a0baea57b848ce05": {
          "model_module": "@jupyter-widgets/base",
          "model_module_version": "1.2.0",
          "model_name": "LayoutModel",
          "state": {
            "_model_module": "@jupyter-widgets/base",
            "_model_module_version": "1.2.0",
            "_model_name": "LayoutModel",
            "_view_count": null,
            "_view_module": "@jupyter-widgets/base",
            "_view_module_version": "1.2.0",
            "_view_name": "LayoutView",
            "align_content": null,
            "align_items": null,
            "align_self": null,
            "border": null,
            "bottom": null,
            "display": null,
            "flex": null,
            "flex_flow": null,
            "grid_area": null,
            "grid_auto_columns": null,
            "grid_auto_flow": null,
            "grid_auto_rows": null,
            "grid_column": null,
            "grid_gap": null,
            "grid_row": null,
            "grid_template_areas": null,
            "grid_template_columns": null,
            "grid_template_rows": null,
            "height": null,
            "justify_content": null,
            "justify_items": null,
            "left": null,
            "margin": null,
            "max_height": null,
            "max_width": null,
            "min_height": null,
            "min_width": null,
            "object_fit": null,
            "object_position": null,
            "order": null,
            "overflow": null,
            "overflow_x": null,
            "overflow_y": null,
            "padding": null,
            "right": null,
            "top": null,
            "visibility": null,
            "width": null
          }
        },
        "e83224863ffd43039e4c7f343dbfb4b6": {
          "model_module": "@jupyter-widgets/controls",
          "model_module_version": "1.5.0",
          "model_name": "HTMLModel",
          "state": {
            "_dom_classes": [],
            "_model_module": "@jupyter-widgets/controls",
            "_model_module_version": "1.5.0",
            "_model_name": "HTMLModel",
            "_view_count": null,
            "_view_module": "@jupyter-widgets/controls",
            "_view_module_version": "1.5.0",
            "_view_name": "HTMLView",
            "description": "",
            "description_tooltip": null,
            "layout": "IPY_MODEL_ca1ba49983d14b97b613cd1ff5ed1579",
            "placeholder": "​",
            "style": "IPY_MODEL_c889a5de1e6c4debb18ae2aaaf72a809",
            "value": " 91.2M/91.2M [00:12&lt;00:00, 9.02MB/s]"
          }
        },
        "f9f9664d3fac477d8c412c5ffcc16777": {
          "model_module": "@jupyter-widgets/base",
          "model_module_version": "1.2.0",
          "model_name": "LayoutModel",
          "state": {
            "_model_module": "@jupyter-widgets/base",
            "_model_module_version": "1.2.0",
            "_model_name": "LayoutModel",
            "_view_count": null,
            "_view_module": "@jupyter-widgets/base",
            "_view_module_version": "1.2.0",
            "_view_name": "LayoutView",
            "align_content": null,
            "align_items": null,
            "align_self": null,
            "border": null,
            "bottom": null,
            "display": null,
            "flex": null,
            "flex_flow": null,
            "grid_area": null,
            "grid_auto_columns": null,
            "grid_auto_flow": null,
            "grid_auto_rows": null,
            "grid_column": null,
            "grid_gap": null,
            "grid_row": null,
            "grid_template_areas": null,
            "grid_template_columns": null,
            "grid_template_rows": null,
            "height": null,
            "justify_content": null,
            "justify_items": null,
            "left": null,
            "margin": null,
            "max_height": null,
            "max_width": null,
            "min_height": null,
            "min_width": null,
            "object_fit": null,
            "object_position": null,
            "order": null,
            "overflow": null,
            "overflow_x": null,
            "overflow_y": null,
            "padding": null,
            "right": null,
            "top": null,
            "visibility": null,
            "width": null
          }
        }
      }
    }
  },
  "nbformat": 4,
  "nbformat_minor": 0
}
